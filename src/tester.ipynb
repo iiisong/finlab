{
 "cells": [
  {
   "cell_type": "code",
   "execution_count": 1,
   "metadata": {},
   "outputs": [],
   "source": [
    "from Form10k import Form10k"
   ]
  },
  {
   "cell_type": "code",
   "execution_count": 2,
   "metadata": {},
   "outputs": [
    {
     "name": "stderr",
     "output_type": "stream",
     "text": [
      "/Users/isaac/programming/finlab/src/Form10k.py:44: XMLParsedAsHTMLWarning: It looks like you're parsing an XML document using an HTML parser. If this really is an HTML document (maybe it's XHTML?), you can ignore or filter this warning. If it's XML, you should know that using an XML parser will be more reliable. To parse this document as XML, make sure you have the lxml package installed, and pass the keyword argument `features=\"xml\"` into the BeautifulSoup constructor.\n",
      "  self._soup = BeautifulSoup(self.html, features='lxml')\n"
     ]
    }
   ],
   "source": [
    "form1 = Form10k(\"../data/sec-edgar-filings/AAPL/10-K/0000320193-17-000070/primary-document.html\")\n",
    "form2 = Form10k(\"../data/sec-edgar-filings/META/10-K/0001326801-20-000013/primary-document.html\")\n",
    "form3 = Form10k(\"../data/sec-edgar-filings/LUMN/10-K/0000018926-22-000007/primary-document.html\")\n",
    "form4 = Form10k(\"../data/sec-edgar-filings/GWW/10-K/0000277135-14-000008/primary-document.html\")"
   ]
  },
  {
   "cell_type": "code",
   "execution_count": 3,
   "metadata": {},
   "outputs": [
    {
     "name": "stdout",
     "output_type": "stream",
     "text": [
      "\n",
      "            Annual SEC Form-10K for W.W. Grainger, Inc. from 2014 covering the overall financial performance over 2013.\n",
      "            \n",
      "            Attributes:\n",
      "                Company Name                                        W.W. Grainger, Inc.\n",
      "                Year (filing for preceding year)                    2014\n",
      "                Employer Identification Number (IRS)                36-1150280\n",
      "                Address                                             100 Grainger Parkway, Lake Forest, Illinois   60045-5201\n",
      "                Phone Number                                        (847) 535-1000\n",
      "                File Path                                           ../data/sec-edgar-filings/GWW/10-K/0000277135-14-000008/primary-document.html\n",
      "                Size (in characters)                                219745\n",
      "              \n"
     ]
    }
   ],
   "source": [
    "form4.printInfo()"
   ]
  },
  {
   "cell_type": "code",
   "execution_count": null,
   "metadata": {},
   "outputs": [],
   "source": []
  },
  {
   "cell_type": "code",
   "execution_count": null,
   "metadata": {},
   "outputs": [],
   "source": []
  }
 ],
 "metadata": {
  "kernelspec": {
   "display_name": "env",
   "language": "python",
   "name": "python3"
  },
  "language_info": {
   "codemirror_mode": {
    "name": "ipython",
    "version": 3
   },
   "file_extension": ".py",
   "mimetype": "text/x-python",
   "name": "python",
   "nbconvert_exporter": "python",
   "pygments_lexer": "ipython3",
   "version": "3.9.12"
  }
 },
 "nbformat": 4,
 "nbformat_minor": 2
}
