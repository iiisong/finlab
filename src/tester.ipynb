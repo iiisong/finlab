{
 "cells": [
  {
   "cell_type": "code",
   "execution_count": 1,
   "metadata": {},
   "outputs": [],
   "source": [
    "from Form10KLoader import Form10KLoader\n",
    "from Form10KText import Form10KText"
   ]
  },
  {
   "cell_type": "code",
   "execution_count": 2,
   "metadata": {},
   "outputs": [
    {
     "name": "stderr",
     "output_type": "stream",
     "text": [
      "/Users/isaac/programming/finlab/src/Form10KText.py:44: XMLParsedAsHTMLWarning: It looks like you're parsing an XML document using an HTML parser. If this really is an HTML document (maybe it's XHTML?), you can ignore or filter this warning. If it's XML, you should know that using an XML parser will be more reliable. To parse this document as XML, make sure you have the lxml package installed, and pass the keyword argument `features=\"xml\"` into the BeautifulSoup constructor.\n",
      "  self._soup = BeautifulSoup(self.html, features='lxml')\n"
     ]
    }
   ],
   "source": [
    "form1 = Form10KText(\"../data/sec-edgar-filings/AAPL/10-K/0000320193-17-000070/primary-document.html\")\n",
    "form2 = Form10KText(\"../data/sec-edgar-filings/META/10-K/0001326801-20-000013/primary-document.html\")\n",
    "form3 = Form10KText(\"../data/sec-edgar-filings/LUMN/10-K/0000018926-22-000007/primary-document.html\")\n",
    "form4 = Form10KText(\"../data/sec-edgar-filings/GWW/10-K/0000277135-14-000008/primary-document.html\")"
   ]
  },
  {
   "cell_type": "code",
   "execution_count": 14,
   "metadata": {},
   "outputs": [
    {
     "name": "stdout",
     "output_type": "stream",
     "text": [
      "Item 15.  Exhibits, Financial Statement Schedules\n",
      "\n",
      "We have filed the following documents as part of this Form 10-K:\n",
      "\n",
      "1. Consolidated Financial Statements:\n",
      "\n",
      "\n",
      "\n",
      "   Page\n",
      " Reports of Independent Registered Public Accounting Firm 69\n",
      " Consolidated Balance Sheets 73\n",
      " Consolidated Statements of Income 74\n",
      " Consolidated Statements of Comprehensive Income 75\n",
      " Consolidated Statements of Stockholders' Equity 76\n",
      " Consolidated Statements of Cash Flows 77\n",
      " Notes to Consolidated Financial Statements 79 \n",
      "2. Financial Statement Schedules\n",
      "\n",
      "All schedules have been omitted because they are not required, not applicable, not present in amounts sufficient to require submission of the schedule, or the required information is otherwise included.\n",
      "\n",
      "3. Exhibits\n",
      "\n",
      "\n",
      "\n",
      "\n",
      " Exhibit       Incorporated by Reference   Filed Herewith\n",
      " Number   Exhibit Description   Form   File No.   Exhibit   Filing Date  \n",
      "              \n",
      " 3.1   Restated Certificate of Incorporation.   10-Q   001-35551   3.1   July 31, 2012    \n",
      " 3.2   Amended and Restated Bylaws.   8-K   001-35551   3.1   April 15, 2019    \n",
      " 3.3   Description of Registrant's Capital Stock.                   X\n",
      " 4.1   Form of Class A Common Stock Certificate.   S-1   333-179287   4.1   February 8, 2012    \n",
      " 4.2   Form of Class B Common Stock Certificate.   S-8   333-181566   4.4   May 21, 2012    \n",
      " 4.3   Form of \"Type 1\" Holder Voting Agreement, between Registrant, Mark Zuckerberg, and certain parties thereto.   S-1   333-179287   4.3   February 8, 2012    \n",
      " 10.1+   Form of Indemnification Agreement.   8-K   333-179287   10.1   April 15, 2019    \n",
      " 10.2(A)+   2005 Stock Plan, as amended.   10-K   001-35551   10.2(A)   February 1, 2013    \n",
      " 10.2(B)+   2005 Stock Plan forms of award agreements.   S-1   333-179287   10.2   February 8, 2012    \n",
      " 10.3(A)+   2012 Equity Incentive Plan, as amended.   10-Q   001-35551   10.1   April 26, 2018    \n",
      " 10.3(B)+   2012 Equity Incentive Plan forms of award agreements.    10-Q   001-35551   10.2   July 31, 2012    \n",
      " 10.3(C)+   2012 Equity Incentive Plan forms of award agreements (Additional Forms).   10-K   001-35551   10.3(C)   January 29, 2015    \n",
      " 10.3(D)+   2012 Equity Incentive Plan forms of award agreements (Additional Forms).   10-Q   001-35551   10.1   May 4, 2017    \n",
      " 10.3(E)+   2012 Equity Incentive Plan forms of award agreements (Additional Forms).   10-Q   001-35551   10.1   July 27, 2017    \n",
      "\n",
      "\n",
      "105\n",
      "\n",
      "\n",
      "\n",
      "Table of Contents\n",
      "\n",
      "\n",
      "\n",
      "\n",
      "\n",
      "\n",
      " Exhibit       Incorporated by Reference   Filed Herewith\n",
      " Number   Exhibit Description   Form   File No.   Exhibit   Filing Date  \n",
      "              \n",
      " 10.3(F)+   2012 Equity Incentive Plan forms of award agreements (Additional Forms).   10-Q   001-35551   10.2   April 26, 2018    \n",
      " 10.3(G)+   2012 Equity Incentive Plan forms of award agreements (Additional Forms).   10-K   001-35551   10.3(G)   January 31, 2019    \n",
      " 10.3(H)+   2012 Equity Incentive Plan forms of award agreements (Additional Forms).   10-Q   001-35551   10.2   April 25, 2019    \n",
      " 10.4+   Bonus Plan.   10-Q   001-35551   10.3   April 25, 2019    \n",
      " 10.5+   Amended and Restated Offer Letter, dated January 27, 2012, between Registrant and Mark Zuckerberg.   S-1   333-179287   10.6   February 8, 2012    \n",
      " 10.6+   Amended and Restated Employment Agreement, dated January 27, 2012, between Registrant and Sheryl K. Sandberg.   S-1   333-179287   10.7   February 8, 2012    \n",
      " 10.7+   Amended and Restated Offer Letter, dated May 2, 2014, between Registrant and Christopher Cox.   10-K   001-35551   10.8   January 29, 2015    \n",
      " 10.8+   Amended and Restated Offer Letter, dated January 27, 2012, between Registrant and Mike Schroepfer.   S-1   333-179287   10.9   February 8, 2012    \n",
      " 10.11+   Amended and Restated Offer Letter, dated August 25, 2014, between Registrant and David M. Wehner.   10-K   001-35551   10.10   January 29, 2015    \n",
      " 10.12+   Offer Letter, dated December 8, 2017, between Registrant and Kenneth I. Chenault.   10-Q   001-35551   10.4   April 26, 2018    \n",
      " 10.13+   Offer Letter, dated April 23, 2018, between Registrant and Jeffrey D. Zients.   10-Q   001-35551   10.1   July 26, 2018    \n",
      " 10.14+   Advisory Services Agreement, dated April 8, 2019, between Registrant and Christopher Cox.   10-Q   001-35551   10.4   April 25, 2019    \n",
      " 10.15+   Form of Executive Officer Offer Letter.   10-Q   001-35551   10.3   July 25, 2019    \n",
      " 10.16+   Executive Sales Incentive Plan.   10-Q   001-35551   10.4   July 25, 2019    \n",
      " 21.1   List of subsidiaries.                   X\n",
      " 23.1   Consent of Independent Registered Public Accounting Firm.                   X\n",
      " 31.1   Certification of Mark Zuckerberg, Chief Executive Officer, pursuant to Rule 13a-14(a)/15d-14(a), as adopted pursuant to Section 302 of the Sarbanes-Oxley Act of 2002.                   X\n",
      " 31.2   Certification of David M. Wehner, Chief Financial Officer, pursuant to Rule 13a-14(a)/15d-14(a), as adopted pursuant to Section 302 of the Sarbanes-Oxley Act of 2002.                   X\n",
      " 32.1#   Certification of Mark Zuckerberg, Chief Executive Officer, pursuant to 18 U.S.C. Section 1350, as adopted pursuant to Section 906 of the Sarbanes-Oxley Act of 2002.                   X\n",
      "\n",
      "\n",
      "106\n",
      "\n",
      "\n",
      "\n",
      "Table of Contents\n",
      "\n",
      "\n",
      "\n",
      "\n",
      "\n",
      "\n",
      " Exhibit       Incorporated by Reference   Filed Herewith\n",
      " Number   Exhibit Description   Form   File No.   Exhibit   Filing Date  \n",
      "                          \n",
      " 32.2#   Certification of David M. Wehner, Chief Financial Officer, pursuant to 18 U.S.C. Section 1350, as adopted pursuant to Section 906 of the Sarbanes-Oxley Act of 2002.                   X\n",
      " 101.INS   XBRL Instance Document.                   X\n",
      " 101.SCH   XBRL Taxonomy Extension Schema Document.                   X\n",
      " 101.CAL   XBRL Taxonomy Extension Calculation Linkbase Document.                   X\n",
      " 101.DEF   XBRL Taxonomy Extension Definition Linkbase Document.                   X\n",
      " 101.LAB   XBRL Taxonomy Extension Labels Linkbase Document.                   X\n",
      " 101.PRE   XBRL Taxonomy Extension Presentation Linkbase Document.                   X\n",
      " 104   Cover Page Interactive Data File (formatted as inline XBRL and contained in Exhibit 101).                   X\n",
      "\n",
      "       + Indicates a management contract or compensatory plan.    \n",
      "\n",
      "       #  This certification is deemed not filed for purposes of section 18 of the Securities Exchange Act of 1934, as amended (Exchange Act), or otherwise subject to the liability of that section, nor shall it be deemed incorporated by reference into any filing under the Securities Act of 1933, as amended or the Exchange Act.\n",
      "\n",
      "\n",
      "\n",
      " Item 16.  Form 10-K Summary\n",
      "\n",
      "None.\n",
      "\n",
      "\n",
      "107\n",
      "\n",
      "\n",
      "\n",
      "\n",
      "Table of Contents\n",
      "\n",
      "\n",
      "SIGNATURES\n",
      "\n",
      "Pursuant to the requirements of Section 13 or 15(d) of the Securities Exchange Act of 1934, the Registrant has duly caused this Annual Report on Form 10-K to be signed on its behalf by the undersigned, thereunto duly authorized, in the City of Menlo Park, State of California, on this 29th day of January 2020.\n",
      "\n",
      "\n",
      "\n",
      "\n",
      "\n",
      "       FACEBOOK, INC.\n",
      "        \n",
      " Date:  January 29, 2020   /s/ David M. Wehner \n",
      "       David M. Wehner\n",
      "       Chief Financial Officer\n",
      "        \n",
      " \n",
      "\n",
      "\n",
      "108\n",
      "\n",
      "\n",
      "\n",
      "Table of Contents\n",
      "\n",
      "\n",
      "POWER OF ATTORNEY\n",
      " \n",
      "KNOW ALL PERSONS BY THESE PRESENTS, that each person whose signature appears below constitutes and appoints David M. Wehner and David W. Kling, and each of them, as his or her true and lawful attorneys-in-fact and agents, with full power of substitution and resubstitution, for him or her and in his or her name, place and stead, in any and all capacities, to sign any and all amendments to this Annual Report on Form 10-K, and to file the same, with all exhibits thereto, and other documents in connection therewith, with the Securities and Exchange Commission, granting unto said attorneys-in-fact and agents, and each of them, full power and authority to do and perform each and every act and thing requisite and necessary to be done in connection therewith, as fully to all intents and purposes as he or she might or could do in person, hereby ratifying and confirming that all said attorneys-in-fact and agents, or any of them or their or his or her substitute or substitutes, may lawfully do or cause to be done by virtue hereof.\n",
      "\n",
      "Pursuant to the requirements of the Securities Exchange Act of 1934, this Annual Report on Form 10-K has been signed by the following persons on behalf of the Registrant and in the capacities and on the dates indicated: \n",
      "\n",
      "\n",
      "\n",
      "\n",
      " Signature   Title   Date\n",
      " /s/ Mark Zuckerberg   Chairman and Chief Executive Officer (Principal Executive Officer)   January 29, 2020\n",
      " Mark Zuckerberg      \n",
      "          \n",
      " /s/ David M. Wehner   Chief Financial Officer (Principal Financial Officer)   January 29, 2020\n",
      " David M. Wehner      \n",
      "          \n",
      " /S/ Susan J.S. Taylor   Chief Accounting Officer (Principal Accounting Officer)   January 29, 2020\n",
      " Susan J.S. Taylor      \n",
      "          \n",
      " /s/ Peggy Alford   Director   January 29, 2020\n",
      " Peggy Alford        \n",
      "          \n",
      " /s/ Marc L. Andreessen   Director   January 29, 2020\n",
      " Marc L. Andreessen        \n",
      "          \n",
      " /s/ Kenneth I. Chenault   Director   January 29, 2020\n",
      " Kenneth I. Chenault        \n",
      "          \n",
      " /s/ Sheryl K. Sandberg   Director   January 29, 2020\n",
      " Sheryl K. Sandberg        \n",
      "          \n",
      " /s/ Peter A. Thiel   Director   January 29, 2020\n",
      " Peter A. Thiel        \n",
      "          \n",
      " /s/ Jeffrey D. Zients   Director   January 29, 2020\n",
      " Jeffrey D. Zients        \n",
      "\n",
      "\n",
      "109\n"
     ]
    }
   ],
   "source": [
    "print(form2.get_section('i15'))"
   ]
  },
  {
   "cell_type": "code",
   "execution_count": 103,
   "metadata": {},
   "outputs": [],
   "source": [
    "import google.generativeai as genai\n",
    "import os"
   ]
  },
  {
   "cell_type": "code",
   "execution_count": 104,
   "metadata": {},
   "outputs": [],
   "source": [
    "genai.configure(api_key=os.environ[\"GEMINI_KEY\"])\n",
    "model = genai.GenerativeModel('gemini-pro')"
   ]
  },
  {
   "cell_type": "code",
   "execution_count": 25,
   "metadata": {},
   "outputs": [],
   "source": [
    "text = form1.get_section('i1')\n",
    "prompt = f\"Describe the general summary of the business using the Item 1 of its Form 10-K: {text}\"\n",
    "\n",
    "response = model.generate_content(prompt)"
   ]
  },
  {
   "cell_type": "code",
   "execution_count": 26,
   "metadata": {},
   "outputs": [
    {
     "name": "stdout",
     "output_type": "stream",
     "text": [
      "**Business Summary**\n",
      "\n",
      "W.W. Grainger, Inc. is a leading broad-line distributor of maintenance, repair and operating (MRO) supplies and related products and services to businesses and institutions. They operate in the United States, Canada, and various other locations globally.\n",
      "\n",
      "**Business Model**\n",
      "\n",
      "Grainger uses a multichannel business model with sales representatives, direct marketing materials, catalogs, and eCommerce. They offer a wide range of products and services through a network of branches, distribution centers, and online platforms.\n",
      "\n",
      "**Segments**\n",
      "\n",
      "Grainger has two reportable segments:\n",
      "\n",
      "* **United States:** Offers a broad selection of MRO supplies and services with a focus on product breadth, local availability, and quick delivery.\n",
      "* **Canada:** Known as Acklands - Grainger, this segment operates similarly to the United States segment, with a focus on industrial and safety supplies.\n",
      "\n",
      "**Other Businesses**\n",
      "\n",
      "Grainger also operates in various other locations, including Europe, Asia, Latin America, and additional U.S. operations.\n",
      "\n",
      "**Competition**\n",
      "\n",
      "Grainger faces competition from manufacturers, wholesale distributors, catalog houses, retail enterprises, and Internet-based businesses. They compete on factors such as local availability, product line breadth, sales support, competitive pricing, and technology.\n"
     ]
    }
   ],
   "source": [
    "print(response.text)"
   ]
  },
  {
   "cell_type": "code",
   "execution_count": 86,
   "metadata": {},
   "outputs": [],
   "source": [
    "text5 = form4.get_section('i1')\n",
    "prompt = f\"How sustainable is the business model technical-wise in face of the current AI boom and score it out of 10 with 0 being not sustainable at all. Here is the Business Summary of their Form 10-K: {text5}\"\n",
    "\n",
    "response = model.generate_content(prompt)"
   ]
  },
  {
   "cell_type": "code",
   "execution_count": 87,
   "metadata": {},
   "outputs": [
    {
     "name": "stdout",
     "output_type": "stream",
     "text": [
      "**Sustainability of business model technical-wise in face of the current AI boom: 6/10.**\n",
      "\n",
      "Grainger's business model relies heavily on its physical infrastructure, including branches, distribution centers, and sales representatives. While the company has made some investments in e-commerce and digital technologies, it is not clear how well-positioned it is to compete with pure-play online retailers or companies that are leveraging AI to automate their operations.\n",
      "\n",
      "Here are some of the specific risks that AI poses to Grainger's business model:\n",
      "\n",
      "* **Automated inventory management:** AI-powered solutions can help businesses manage their inventory more efficiently, reducing the need for physical warehouses and distribution centers. This could lead to a decline in demand for Grainger's core products and services.\n",
      "* **E-commerce:** AI can help online retailers improve their customer experience, product recommendations, and order fulfillment. This could make it more difficult for Grainger to compete with these retailers, especially in the B2B market.\n",
      "* **Sales automation:** AI can help sales representatives automate tasks such as lead generation, prospecting, and scheduling appointments. This could reduce the need for Grainger's sales force, which is a significant expense for the company.\n",
      "* **Customer service:** AI can help businesses provide faster and more efficient customer service. This could reduce the need for Grainger's customer service representatives, who are another significant expense for the company.\n",
      "\n",
      "Overall, while Grainger has a strong business model that has served it well for many years, it is clear that the company needs to make some changes to its operations in order to remain competitive in the face of the AI boom.\n"
     ]
    }
   ],
   "source": [
    "print(response.text)"
   ]
  },
  {
   "cell_type": "code",
   "execution_count": 92,
   "metadata": {},
   "outputs": [
    {
     "data": {
      "text/plain": [
       "{'i1': 483418,\n",
       " 'i1a': 483418,\n",
       " 'i1b': 483418,\n",
       " 'i3': 483418,\n",
       " 'i4': 483418,\n",
       " 'i5': 483418,\n",
       " 'i6': 483418,\n",
       " 'i7': 483418,\n",
       " 'i7a': 483418,\n",
       " 'i8': 483418,\n",
       " 'i9': 483418,\n",
       " 'i10': 483418,\n",
       " 'i11': 483418,\n",
       " 'i12': 483418,\n",
       " 'i13': 483418,\n",
       " 'i14': 483418,\n",
       " 'i15': 483418}"
      ]
     },
     "execution_count": 92,
     "metadata": {},
     "output_type": "execute_result"
    }
   ],
   "source": [
    "form3._html_indices "
   ]
  },
  {
   "cell_type": "code",
   "execution_count": 100,
   "metadata": {},
   "outputs": [
    {
     "data": {
      "text/plain": [
       "'Arial\\',sans-serif;font-size:10pt;font-weight:400;line-height:120%\"> None</span></div><div style=\"mar'"
      ]
     },
     "execution_count": 100,
     "metadata": {},
     "output_type": "execute_result"
    }
   ],
   "source": [
    "form3.html[483350: 483450]"
   ]
  },
  {
   "cell_type": "code",
   "execution_count": 111,
   "metadata": {},
   "outputs": [],
   "source": [
    "import os\n",
    "import re"
   ]
  },
  {
   "cell_type": "code",
   "execution_count": null,
   "metadata": {},
   "outputs": [],
   "source": []
  },
  {
   "cell_type": "code",
   "execution_count": 131,
   "metadata": {},
   "outputs": [
    {
     "name": "stdout",
     "output_type": "stream",
     "text": [
      "0001326801-23-000013\n"
     ]
    }
   ],
   "source": [
    "year = 23\n",
    "dirs =  os.listdir(\"../data/sec-edgar-filings/META/10-K/\")\n",
    "for d in dirs:\n",
    "    m = re.match(rf'\\d{{10}}-{year}-\\d{{6}}', d)\n",
    "    if m is not None:\n",
    "        print(m[0])\n",
    "        break"
   ]
  },
  {
   "cell_type": "code",
   "execution_count": 124,
   "metadata": {},
   "outputs": [
    {
     "data": {
      "text/plain": [
       "[None]"
      ]
     },
     "execution_count": 124,
     "metadata": {},
     "output_type": "execute_result"
    }
   ],
   "source": [
    "m"
   ]
  },
  {
   "cell_type": "code",
   "execution_count": 127,
   "metadata": {},
   "outputs": [
    {
     "data": {
      "text/plain": [
       "True"
      ]
     },
     "execution_count": 127,
     "metadata": {},
     "output_type": "execute_result"
    }
   ],
   "source": [
    "re.match(rf'\\d{{10}}-{year}-\\d{{6}}', \"hi\") == None"
   ]
  },
  {
   "cell_type": "code",
   "execution_count": 3,
   "metadata": {},
   "outputs": [],
   "source": [
    "a = \"{test}, {test}, {test}\""
   ]
  },
  {
   "cell_type": "code",
   "execution_count": 9,
   "metadata": {},
   "outputs": [
    {
     "data": {
      "text/plain": [
       "'{test}, {test}, {test}'"
      ]
     },
     "metadata": {},
     "output_type": "display_data"
    },
    {
     "data": {
      "text/plain": [
       "'hi, hi, hi'"
      ]
     },
     "metadata": {},
     "output_type": "display_data"
    }
   ],
   "source": [
    "test = \"hi\"\n",
    "display(a, a.format(test=test))"
   ]
  },
  {
   "cell_type": "code",
   "execution_count": 3,
   "metadata": {},
   "outputs": [],
   "source": [
    "test = \"[{{overall finance score}}, [[{{balance sheet score}}, {{reason}}], [{{income statement score}}, {{reason}}], [{{cash flow score}}, {{reason}}]]\""
   ]
  },
  {
   "cell_type": "code",
   "execution_count": 11,
   "metadata": {},
   "outputs": [
    {
     "data": {
      "text/plain": [
       "'[1, 2, 3]'"
      ]
     },
     "execution_count": 11,
     "metadata": {},
     "output_type": "execute_result"
    }
   ],
   "source": [
    "str([1,2,3])"
   ]
  },
  {
   "cell_type": "code",
   "execution_count": null,
   "metadata": {},
   "outputs": [],
   "source": []
  }
 ],
 "metadata": {
  "kernelspec": {
   "display_name": "env",
   "language": "python",
   "name": "python3"
  },
  "language_info": {
   "codemirror_mode": {
    "name": "ipython",
    "version": 3
   },
   "file_extension": ".py",
   "mimetype": "text/x-python",
   "name": "python",
   "nbconvert_exporter": "python",
   "pygments_lexer": "ipython3",
   "version": "3.9.12"
  }
 },
 "nbformat": 4,
 "nbformat_minor": 2
}
